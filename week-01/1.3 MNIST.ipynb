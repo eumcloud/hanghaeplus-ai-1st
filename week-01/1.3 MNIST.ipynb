{
  "nbformat": 4,
  "nbformat_minor": 0,
  "metadata": {
    "colab": {
      "provenance": [],
      "gpuType": "T4"
    },
    "kernelspec": {
      "name": "python3",
      "display_name": "Python 3"
    },
    "language_info": {
      "name": "python"
    },
    "accelerator": "GPU"
  },
  "cells": [
    {
      "cell_type": "markdown",
      "source": [
        "# MNIST 실습\n",
        "\n",
        "이번에는 28x28 흑백 손글씨 이미지를 보고 0~9 사이의 숫자 중 어떤 숫자를 쓴 것인지 예측하는 문제를 실습합니다.\n",
        "이번 실습에서는 GPU를 활용할 것이기 때문에, 이전 챕터에서 Colab에서 GPU를 설정하는 방법을 따라해주시길 바랍니다.\n",
        "\n",
        "GPU를 설정했으면 library들을 import합니다."
      ],
      "metadata": {
        "id": "OPJenlrhihrh"
      }
    },
    {
      "cell_type": "code",
      "execution_count": 2,
      "metadata": {
        "id": "6lXVfXoDtoQh"
      },
      "outputs": [],
      "source": [
        "import torch\n",
        "import torchvision\n",
        "import torchvision.transforms as transforms\n"
      ]
    },
    {
      "cell_type": "markdown",
      "source": [
        "다음은 dataset을 준비합니다. 손글씨 dataset은 MNIST라는 유명한 dataset이 있습니다. 이 dataset은 `torchvision`에서 제공하고 있으며, 다음과 같이 다운로드 받을 수 있습니다."
      ],
      "metadata": {
        "id": "pF-1zQvmiult"
      }
    },
    {
      "cell_type": "code",
      "source": [
        "transform = transforms.ToTensor()\n",
        "\n",
        "trainset = torchvision.datasets.MNIST(\n",
        "    root='./data',\n",
        "    train=True,\n",
        "    download=True,\n",
        "    transform=transform\n",
        ")\n",
        "\n",
        "\n",
        "# Test 데이터 준비\n",
        "testset = torchvision.datasets.MNIST(\n",
        "    root='./data',\n",
        "    train=False,\n",
        "    download=True,\n",
        "    transform=transform\n",
        ")\n",
        "\n"
      ],
      "metadata": {
        "id": "KAYlqPaRt6ti"
      },
      "execution_count": 54,
      "outputs": []
    },
    {
      "cell_type": "markdown",
      "source": [
        "MNIST는 손글씨 사진과 어떤 숫자를 의미하는지에 대한 label의 pair들로 구성되어있습니다.\n",
        "이 때, 우리는 PyTorch model을 사용할 것이기 때문에 손글씨 사진들을 모두 tensor로 변환해야합니다.\n",
        "이러한 부가적인 변환들은 `torchvision.transforms`에서 제공하고 있으며, `torchvision.datasets.MNIST`에서 `transform` 인자로 받을 수 있습니다.\n",
        "우리는 단순히 사진을 tensor로 바꾸고 싶기 때문에 `transforms.ToTensor()` transformation을 넘겨줍니다.\n",
        "\n",
        "다음은 전체 data의 개수와 첫 번째 data를 출력한 결과입니다."
      ],
      "metadata": {
        "id": "p-GqH7_ZjVMs"
      }
    },
    {
      "cell_type": "code",
      "source": [
        "from matplotlib import pyplot as plt\n",
        "\n",
        "\n",
        "print(len(trainset))\n",
        "print(trainset[0][0].shape, trainset[0][1])\n",
        "plt.imshow(trainset[0][0][0], cmap='gray')"
      ],
      "metadata": {
        "colab": {
          "base_uri": "https://localhost:8080/",
          "height": 484
        },
        "id": "Zsp3sHmojyhT",
        "outputId": "c0e2ca50-7a94-4780-c2e8-e67f3df8f201"
      },
      "execution_count": 47,
      "outputs": [
        {
          "output_type": "stream",
          "name": "stdout",
          "text": [
            "60000\n",
            "torch.Size([1, 28, 28]) 5\n"
          ]
        },
        {
          "output_type": "execute_result",
          "data": {
            "text/plain": [
              "<matplotlib.image.AxesImage at 0x7aeb5021c190>"
            ]
          },
          "metadata": {},
          "execution_count": 47
        },
        {
          "output_type": "display_data",
          "data": {
            "text/plain": [
              "<Figure size 640x480 with 1 Axes>"
            ],
            "image/png": "[encoded data removed]"
          },
          "metadata": {}
        }
      ]
    },
    {
      "cell_type": "markdown",
      "source": [
        "첫 번째 출력결과를 통해 우리는 6만장의 손글씨 data가 있는 것을 알 수 있습니다.\n",
        "그리고 두 번째 출력결과를 통해 첫 번째 data의 shape은 (1, 28, 28)이고 5라는 숫자를 쓴 사진이라는 것을 알 수 있습니다.\n",
        "마지막으로 `plt.imshow`를 통해 visualize 했을 때 5라는 숫자가 나오는 것을 알 수 있습니다.\n",
        "\n",
        "다음은 SGD를 위해 dataset을 여러 개의 batch로 나누는 과정을 PyTorch로 구현한 모습입니다."
      ],
      "metadata": {
        "id": "udm8wDBsi301"
      }
    },
    {
      "cell_type": "code",
      "source": [
        "batch_size = 256\n",
        "\n",
        "trainloader = torch.utils.data.DataLoader(\n",
        "    trainset,\n",
        "    batch_size=batch_size,\n",
        "    shuffle=True\n",
        ")\n",
        "\n",
        "testloader = torch.utils.data.DataLoader(\n",
        "    testset,\n",
        "    batch_size=batch_size,\n",
        "    shuffle=False\n",
        ")"
      ],
      "metadata": {
        "id": "UxKu3kA2i5WH"
      },
      "execution_count": 56,
      "outputs": []
    },
    {
      "cell_type": "markdown",
      "source": [
        "PyTorch에서는 `DataLoader`가 dataset을 인자로 받아 batch로 나눠줍니다.\n",
        "부가적으로 `batch_size`라는 인자를 통해 batch size를 받고 있으며, `shuffle`이라는 인자를 통해 data들을 섞을지 결정해줍니다.\n",
        "우리는 SGD가 완전 랜덤으로 batch를 구성해야 잘 동작하는 것을 알고 있기 때문에 `shuffle`에 `True`를 넘겨주고 있습니다.\n",
        "\n",
        "다음은 첫 번째 batch를 출력한 모습입니다."
      ],
      "metadata": {
        "id": "z4Qyrm4WlzWt"
      }
    },
    {
      "cell_type": "code",
      "source": [
        "dataiter = iter(trainloader)\n",
        "images, labels = next(dataiter)\n",
        "print(images.shape, labels.shape)"
      ],
      "metadata": {
        "colab": {
          "base_uri": "https://localhost:8080/"
        },
        "id": "_Hd7XxyAvVNz",
        "outputId": "a51d212a-8aa5-4bc9-a32a-49656bbb0030"
      },
      "execution_count": 57,
      "outputs": [
        {
          "output_type": "stream",
          "name": "stdout",
          "text": [
            "torch.Size([256, 1, 28, 28]) torch.Size([256])\n"
          ]
        }
      ]
    },
    {
      "cell_type": "markdown",
      "source": [
        "`images`는 첫 번째 batch의 image들이고 `labels`는 첫 번째 batch의 label들입니다.\n",
        "위에서 batch size를 64로 설정했기 때문에 총 64개의 image와 label들이 있어야 합니다.\n",
        "실제 shape 출력 결과를 보면 그렇다는 것을 알 수 있습니다.\n",
        "\n",
        "다음은 (n, 1, 28, 28) shape의 image를 입력받아 0~9 사이의 정수 하나를 출력하는 3-layer MLP를 구현합니다."
      ],
      "metadata": {
        "id": "h0ZY5mDimRUK"
      }
    },
    {
      "cell_type": "code",
      "source": [
        "from torch import nn\n",
        "\n",
        "\n",
        "class Model(nn.Module):\n",
        "  def __init__(self, input_dim, n_dim):\n",
        "    super().__init__()\n",
        "\n",
        "    self.layer1 = nn.Linear(input_dim, n_dim)\n",
        "    self.layer2 = nn.Linear(n_dim, n_dim)\n",
        "    self.layer3 = nn.Linear(n_dim, 10)\n",
        "\n",
        "    self.act = nn.ReLU()\n",
        "\n",
        "  def forward(self, x):\n",
        "    x = torch.flatten(x, start_dim=1)\n",
        "    x = self.act(self.layer1(x))\n",
        "    x = self.act(self.layer2(x))\n",
        "    x = self.act(x)\n",
        "\n",
        "    return x\n",
        "\n",
        "\n",
        "model = Model(28 * 28 * 1, 1024)"
      ],
      "metadata": {
        "id": "OLOA-ZGTuVVG"
      },
      "execution_count": 58,
      "outputs": []
    },
    {
      "cell_type": "markdown",
      "source": [
        "이전의 2-layer MLP와 유사한 형태임을 알 수 있습니다.\n",
        "여기서 특이사항은 `forward`의 첫 번째 줄에 `torch.flatten`을 사용한다는 것입니다.\n",
        "`Linear`는 이전에도 봤다시피 (n, d) 형태의 shape을 입력받습니다.\n",
        "이미지는 (n, 1, 28, 28)이기 때문에 (n, 1 * 28 * 28)로 shape을 변환해야 선형 함수에 입력으로 주어줄 수 있게 됩니다.\n",
        "이 역할을 수행하는 것이 바로 `torch.flatten`입니다.\n",
        "우리는 첫 번째 shape인 n을 보존할 것이기 때문에 flatten할 차원은 `start_dim=1`로 넘겨주게 됩니다.\n",
        "\n",
        "다음은 gradient descent를 수행해줄 optimizer를 구현하는 모습입니다."
      ],
      "metadata": {
        "id": "tag1rNcwmnAr"
      }
    },
    {
      "cell_type": "code",
      "source": [
        "from torch.optim import SGD\n",
        "\n",
        "lr = 0.001\n",
        "model = model.to('cuda')\n",
        "\n",
        "criterion = nn.CrossEntropyLoss()\n",
        "optimizer = SGD(model.parameters(), lr=lr)\n"
      ],
      "metadata": {
        "id": "ypS0TcOlvBhZ"
      },
      "execution_count": 59,
      "outputs": []
    },
    {
      "cell_type": "markdown",
      "source": [
        "이전 코드와 거의 똑같습니다. 다른 점은 `model.to('cuda')` 코드를 통해 우리가 구현한 model을 GPU로 옮긴 것입니다.\n",
        "MNIST 부터는 모델과 data가 커지면서 훨씬 많은 행렬 연산이 이루어지기 때문에 GPU를 활용하는 것이 빠릅니다.\n",
        "\n",
        "다음은 model을 MNIST에 학습하는 코드입니다."
      ],
      "metadata": {
        "id": "5PooeOKMnRfZ"
      }
    },
    {
      "cell_type": "code",
      "source": [
        "import numpy as np\n",
        "\n",
        "# 정확도 측정 함수\n",
        "def accuracy(model, dataloader):\n",
        "    cnt = 0\n",
        "    acc = 0\n",
        "\n",
        "    model.eval()\n",
        "    with torch.no_grad():\n",
        "        for data in dataloader:\n",
        "            inputs, labels = data\n",
        "            inputs, labels = inputs.to('cuda'), labels.to('cuda')\n",
        "\n",
        "            preds = model(inputs)\n",
        "            preds = torch.argmax(preds, dim=-1)\n",
        "\n",
        "            cnt += labels.shape[0]\n",
        "            acc += (labels == preds).sum().item()\n",
        "\n",
        "    return acc / cnt\n",
        "\n",
        "# 정확도 plot 함수\n",
        "def plot_acc(train_accs, test_accs, label1='train', label2='test'):\n",
        "    x = np.arange(len(train_accs))\n",
        "\n",
        "    plt.figure(figsize=(10, 6))\n",
        "    plt.plot(x, train_accs, label=label1)\n",
        "    plt.plot(x, test_accs, label=label2)\n",
        "    plt.xlabel('Epoch')\n",
        "    plt.ylabel('Accuracy')\n",
        "    plt.title('Training and Test Accuracy over Epochs')\n",
        "    plt.legend()\n",
        "    plt.show()"
      ],
      "metadata": {
        "id": "CSPoQaMsF0Ap"
      },
      "execution_count": 63,
      "outputs": []
    },
    {
      "cell_type": "code",
      "source": [
        "n_epochs = 100\n",
        "train_accs = []\n",
        "test_accs = []\n",
        "\n",
        "for epoch in range(n_epochs):\n",
        "    model.train()\n",
        "    total_loss = 0.\n",
        "    for data in trainloader:\n",
        "        inputs, labels = data\n",
        "        inputs, labels = inputs.to('cuda'), labels.to('cuda')\n",
        "\n",
        "        optimizer.zero_grad()\n",
        "        outputs = model(inputs)\n",
        "        loss = criterion(outputs, labels)\n",
        "        loss.backward()\n",
        "        optimizer.step()\n",
        "\n",
        "        total_loss += loss.item()\n",
        "\n",
        "    # 각 epoch마다 train과 test 정확도 측정\n",
        "    train_acc = accuracy(model, trainloader)\n",
        "    test_acc = accuracy(model, testloader)\n",
        "    train_accs.append(train_acc)\n",
        "    test_accs.append(test_acc)\n",
        "\n",
        "    print(f\"Epoch {epoch:3d} | Loss: {total_loss:.4f} | Train Acc: {train_acc:.4f} | Test Acc: {test_acc:.4f}\")\n",
        "\n",
        "\n",
        "\n"
      ],
      "metadata": {
        "colab": {
          "base_uri": "https://localhost:8080/",
          "height": 1000
        },
        "id": "TryX1hewvNiB",
        "outputId": "f8b1dfb2-bbfa-4401-95a2-b6149b85197c"
      },
      "execution_count": 62,
      "outputs": [
        {
          "output_type": "stream",
          "name": "stdout",
          "text": [
            "Epoch   0 | Loss: 305.5639 | Train Acc: 0.8027 | Test Acc: 0.8150\n",
            "Epoch   1 | Loss: 286.4925 | Train Acc: 0.8061 | Test Acc: 0.8172\n",
            "Epoch   2 | Loss: 269.6613 | Train Acc: 0.8137 | Test Acc: 0.8257\n",
            "Epoch   3 | Loss: 254.7270 | Train Acc: 0.8152 | Test Acc: 0.8251\n",
            "Epoch   4 | Loss: 241.6165 | Train Acc: 0.8225 | Test Acc: 0.8317\n",
            "Epoch   5 | Loss: 230.0049 | Train Acc: 0.8255 | Test Acc: 0.8346\n",
            "Epoch   6 | Loss: 219.6894 | Train Acc: 0.8286 | Test Acc: 0.8367\n",
            "Epoch   7 | Loss: 210.4046 | Train Acc: 0.8321 | Test Acc: 0.8406\n",
            "Epoch   8 | Loss: 202.2094 | Train Acc: 0.8341 | Test Acc: 0.8426\n",
            "Epoch   9 | Loss: 194.8429 | Train Acc: 0.8372 | Test Acc: 0.8456\n",
            "Epoch  10 | Loss: 188.1534 | Train Acc: 0.8400 | Test Acc: 0.8489\n",
            "Epoch  11 | Loss: 182.1291 | Train Acc: 0.8414 | Test Acc: 0.8507\n",
            "Epoch  12 | Loss: 176.7147 | Train Acc: 0.8448 | Test Acc: 0.8537\n",
            "Epoch  13 | Loss: 171.6086 | Train Acc: 0.8461 | Test Acc: 0.8549\n",
            "Epoch  14 | Loss: 167.1322 | Train Acc: 0.8487 | Test Acc: 0.8571\n",
            "Epoch  15 | Loss: 162.9113 | Train Acc: 0.8502 | Test Acc: 0.8590\n",
            "Epoch  16 | Loss: 158.9900 | Train Acc: 0.8520 | Test Acc: 0.8611\n",
            "Epoch  17 | Loss: 155.3111 | Train Acc: 0.8541 | Test Acc: 0.8619\n",
            "Epoch  18 | Loss: 152.0607 | Train Acc: 0.8552 | Test Acc: 0.8637\n",
            "Epoch  19 | Loss: 148.9129 | Train Acc: 0.8576 | Test Acc: 0.8652\n",
            "Epoch  20 | Loss: 146.0360 | Train Acc: 0.8588 | Test Acc: 0.8670\n",
            "Epoch  21 | Loss: 143.2943 | Train Acc: 0.8600 | Test Acc: 0.8690\n",
            "Epoch  22 | Loss: 140.8058 | Train Acc: 0.8616 | Test Acc: 0.8703\n",
            "Epoch  23 | Loss: 138.3893 | Train Acc: 0.8628 | Test Acc: 0.8713\n",
            "Epoch  24 | Loss: 136.1599 | Train Acc: 0.8641 | Test Acc: 0.8729\n",
            "Epoch  25 | Loss: 134.0260 | Train Acc: 0.8656 | Test Acc: 0.8747\n",
            "Epoch  26 | Loss: 132.1696 | Train Acc: 0.8667 | Test Acc: 0.8750\n",
            "Epoch  27 | Loss: 130.1673 | Train Acc: 0.8679 | Test Acc: 0.8754\n",
            "Epoch  28 | Loss: 128.4923 | Train Acc: 0.8684 | Test Acc: 0.8761\n",
            "Epoch  29 | Loss: 126.7173 | Train Acc: 0.8692 | Test Acc: 0.8772\n",
            "Epoch  30 | Loss: 125.0992 | Train Acc: 0.8703 | Test Acc: 0.8784\n",
            "Epoch  31 | Loss: 123.6961 | Train Acc: 0.8710 | Test Acc: 0.8788\n",
            "Epoch  32 | Loss: 122.2043 | Train Acc: 0.8720 | Test Acc: 0.8793\n",
            "Epoch  33 | Loss: 120.7843 | Train Acc: 0.8729 | Test Acc: 0.8807\n",
            "Epoch  34 | Loss: 119.4437 | Train Acc: 0.8738 | Test Acc: 0.8815\n",
            "Epoch  35 | Loss: 118.2409 | Train Acc: 0.8745 | Test Acc: 0.8821\n",
            "Epoch  36 | Loss: 117.0503 | Train Acc: 0.8754 | Test Acc: 0.8833\n",
            "Epoch  37 | Loss: 115.8903 | Train Acc: 0.8765 | Test Acc: 0.8840\n",
            "Epoch  38 | Loss: 114.8289 | Train Acc: 0.8767 | Test Acc: 0.8838\n",
            "Epoch  39 | Loss: 113.7387 | Train Acc: 0.8778 | Test Acc: 0.8854\n",
            "Epoch  40 | Loss: 112.6965 | Train Acc: 0.8786 | Test Acc: 0.8856\n",
            "Epoch  41 | Loss: 111.7248 | Train Acc: 0.8796 | Test Acc: 0.8862\n",
            "Epoch  42 | Loss: 110.8436 | Train Acc: 0.8802 | Test Acc: 0.8865\n",
            "Epoch  43 | Loss: 110.0046 | Train Acc: 0.8810 | Test Acc: 0.8874\n",
            "Epoch  44 | Loss: 109.1162 | Train Acc: 0.8811 | Test Acc: 0.8878\n",
            "Epoch  45 | Loss: 108.2270 | Train Acc: 0.8822 | Test Acc: 0.8884\n",
            "Epoch  46 | Loss: 107.3658 | Train Acc: 0.8828 | Test Acc: 0.8887\n",
            "Epoch  47 | Loss: 106.5545 | Train Acc: 0.8836 | Test Acc: 0.8894\n",
            "Epoch  48 | Loss: 105.8539 | Train Acc: 0.8840 | Test Acc: 0.8905\n",
            "Epoch  49 | Loss: 105.1001 | Train Acc: 0.8847 | Test Acc: 0.8910\n",
            "Epoch  50 | Loss: 104.3812 | Train Acc: 0.8854 | Test Acc: 0.8923\n",
            "Epoch  51 | Loss: 103.7568 | Train Acc: 0.8855 | Test Acc: 0.8925\n",
            "Epoch  52 | Loss: 103.1177 | Train Acc: 0.8863 | Test Acc: 0.8929\n",
            "Epoch  53 | Loss: 102.5200 | Train Acc: 0.8865 | Test Acc: 0.8935\n",
            "Epoch  54 | Loss: 101.7821 | Train Acc: 0.8868 | Test Acc: 0.8938\n",
            "Epoch  55 | Loss: 101.2153 | Train Acc: 0.8873 | Test Acc: 0.8944\n",
            "Epoch  56 | Loss: 100.7477 | Train Acc: 0.8878 | Test Acc: 0.8950\n",
            "Epoch  57 | Loss: 100.0736 | Train Acc: 0.8884 | Test Acc: 0.8948\n",
            "Epoch  58 | Loss: 99.5720 | Train Acc: 0.8885 | Test Acc: 0.8955\n",
            "Epoch  59 | Loss: 99.0668 | Train Acc: 0.8888 | Test Acc: 0.8957\n",
            "Epoch  60 | Loss: 98.5125 | Train Acc: 0.8896 | Test Acc: 0.8960\n",
            "Epoch  61 | Loss: 97.9316 | Train Acc: 0.8897 | Test Acc: 0.8959\n",
            "Epoch  62 | Loss: 97.4669 | Train Acc: 0.8899 | Test Acc: 0.8963\n",
            "Epoch  63 | Loss: 96.9762 | Train Acc: 0.8904 | Test Acc: 0.8964\n",
            "Epoch  64 | Loss: 96.5163 | Train Acc: 0.8907 | Test Acc: 0.8969\n",
            "Epoch  65 | Loss: 96.0346 | Train Acc: 0.8911 | Test Acc: 0.8973\n",
            "Epoch  66 | Loss: 95.6230 | Train Acc: 0.8916 | Test Acc: 0.8981\n",
            "Epoch  67 | Loss: 95.2203 | Train Acc: 0.8920 | Test Acc: 0.8981\n",
            "Epoch  68 | Loss: 94.7916 | Train Acc: 0.8924 | Test Acc: 0.8979\n",
            "Epoch  69 | Loss: 94.4194 | Train Acc: 0.8925 | Test Acc: 0.8985\n",
            "Epoch  70 | Loss: 93.9926 | Train Acc: 0.8931 | Test Acc: 0.8992\n",
            "Epoch  71 | Loss: 93.5105 | Train Acc: 0.8934 | Test Acc: 0.8988\n",
            "Epoch  72 | Loss: 93.1975 | Train Acc: 0.8938 | Test Acc: 0.8994\n",
            "Epoch  73 | Loss: 92.8336 | Train Acc: 0.8937 | Test Acc: 0.8988\n",
            "Epoch  74 | Loss: 92.4271 | Train Acc: 0.8942 | Test Acc: 0.8994\n",
            "Epoch  75 | Loss: 92.1477 | Train Acc: 0.8946 | Test Acc: 0.8992\n",
            "Epoch  76 | Loss: 91.7428 | Train Acc: 0.8950 | Test Acc: 0.8994\n",
            "Epoch  77 | Loss: 91.3737 | Train Acc: 0.8952 | Test Acc: 0.9007\n",
            "Epoch  78 | Loss: 91.0975 | Train Acc: 0.8954 | Test Acc: 0.9006\n",
            "Epoch  79 | Loss: 90.8172 | Train Acc: 0.8955 | Test Acc: 0.9005\n",
            "Epoch  80 | Loss: 90.3832 | Train Acc: 0.8958 | Test Acc: 0.9001\n",
            "Epoch  81 | Loss: 90.1510 | Train Acc: 0.8960 | Test Acc: 0.9012\n",
            "Epoch  82 | Loss: 89.8120 | Train Acc: 0.8967 | Test Acc: 0.9009\n",
            "Epoch  83 | Loss: 89.4557 | Train Acc: 0.8968 | Test Acc: 0.9010\n",
            "Epoch  84 | Loss: 89.0927 | Train Acc: 0.8969 | Test Acc: 0.9017\n",
            "Epoch  85 | Loss: 88.8991 | Train Acc: 0.8974 | Test Acc: 0.9020\n",
            "Epoch  86 | Loss: 88.5467 | Train Acc: 0.8978 | Test Acc: 0.9018\n",
            "Epoch  87 | Loss: 88.4564 | Train Acc: 0.8978 | Test Acc: 0.9020\n",
            "Epoch  88 | Loss: 88.1156 | Train Acc: 0.8980 | Test Acc: 0.9026\n",
            "Epoch  89 | Loss: 87.7358 | Train Acc: 0.8982 | Test Acc: 0.9028\n",
            "Epoch  90 | Loss: 87.4828 | Train Acc: 0.8984 | Test Acc: 0.9033\n",
            "Epoch  91 | Loss: 87.2899 | Train Acc: 0.8987 | Test Acc: 0.9028\n",
            "Epoch  92 | Loss: 87.0157 | Train Acc: 0.8991 | Test Acc: 0.9026\n",
            "Epoch  93 | Loss: 86.7123 | Train Acc: 0.8990 | Test Acc: 0.9033\n",
            "Epoch  94 | Loss: 86.4828 | Train Acc: 0.8994 | Test Acc: 0.9033\n",
            "Epoch  95 | Loss: 86.1883 | Train Acc: 0.8997 | Test Acc: 0.9033\n",
            "Epoch  96 | Loss: 86.0800 | Train Acc: 0.8997 | Test Acc: 0.9036\n",
            "Epoch  97 | Loss: 85.7154 | Train Acc: 0.9001 | Test Acc: 0.9041\n",
            "Epoch  98 | Loss: 85.5056 | Train Acc: 0.9003 | Test Acc: 0.9038\n",
            "Epoch  99 | Loss: 85.2990 | Train Acc: 0.9002 | Test Acc: 0.9043\n"
          ]
        },
        {
          "output_type": "error",
          "ename": "NameError",
          "evalue": "name 'np' is not defined",
          "traceback": [
            "\u001b[0;31m---------------------------------------------------------------------------\u001b[0m",
            "\u001b[0;31mNameError\u001b[0m                                 Traceback (most recent call last)",
            "\u001b[0;32m<ipython-input-62-2c5c719b6766>\u001b[0m in \u001b[0;36m<cell line: 29>\u001b[0;34m()\u001b[0m\n\u001b[1;32m     27\u001b[0m \u001b[0;34m\u001b[0m\u001b[0m\n\u001b[1;32m     28\u001b[0m \u001b[0;31m# 학습 완료 후 정확도 plot\u001b[0m\u001b[0;34m\u001b[0m\u001b[0;34m\u001b[0m\u001b[0m\n\u001b[0;32m---> 29\u001b[0;31m \u001b[0mplot_acc\u001b[0m\u001b[0;34m(\u001b[0m\u001b[0mtrain_accs\u001b[0m\u001b[0;34m,\u001b[0m \u001b[0mtest_accs\u001b[0m\u001b[0;34m)\u001b[0m\u001b[0;34m\u001b[0m\u001b[0;34m\u001b[0m\u001b[0m\n\u001b[0m\u001b[1;32m     30\u001b[0m \u001b[0;34m\u001b[0m\u001b[0m\n\u001b[1;32m     31\u001b[0m \u001b[0;31m# 최종 예측 확인\u001b[0m\u001b[0;34m\u001b[0m\u001b[0;34m\u001b[0m\u001b[0m\n",
            "\u001b[0;32m<ipython-input-61-45f7705424f0>\u001b[0m in \u001b[0;36mplot_acc\u001b[0;34m(train_accs, test_accs, label1, label2)\u001b[0m\n\u001b[1;32m     20\u001b[0m \u001b[0;31m# 정확도 plot 함수\u001b[0m\u001b[0;34m\u001b[0m\u001b[0;34m\u001b[0m\u001b[0m\n\u001b[1;32m     21\u001b[0m \u001b[0;32mdef\u001b[0m \u001b[0mplot_acc\u001b[0m\u001b[0;34m(\u001b[0m\u001b[0mtrain_accs\u001b[0m\u001b[0;34m,\u001b[0m \u001b[0mtest_accs\u001b[0m\u001b[0;34m,\u001b[0m \u001b[0mlabel1\u001b[0m\u001b[0;34m=\u001b[0m\u001b[0;34m'train'\u001b[0m\u001b[0;34m,\u001b[0m \u001b[0mlabel2\u001b[0m\u001b[0;34m=\u001b[0m\u001b[0;34m'test'\u001b[0m\u001b[0;34m)\u001b[0m\u001b[0;34m:\u001b[0m\u001b[0;34m\u001b[0m\u001b[0;34m\u001b[0m\u001b[0m\n\u001b[0;32m---> 22\u001b[0;31m     \u001b[0mx\u001b[0m \u001b[0;34m=\u001b[0m \u001b[0mnp\u001b[0m\u001b[0;34m.\u001b[0m\u001b[0marange\u001b[0m\u001b[0;34m(\u001b[0m\u001b[0mlen\u001b[0m\u001b[0;34m(\u001b[0m\u001b[0mtrain_accs\u001b[0m\u001b[0;34m)\u001b[0m\u001b[0;34m)\u001b[0m\u001b[0;34m\u001b[0m\u001b[0;34m\u001b[0m\u001b[0m\n\u001b[0m\u001b[1;32m     23\u001b[0m \u001b[0;34m\u001b[0m\u001b[0m\n\u001b[1;32m     24\u001b[0m     \u001b[0mplt\u001b[0m\u001b[0;34m.\u001b[0m\u001b[0mfigure\u001b[0m\u001b[0;34m(\u001b[0m\u001b[0mfigsize\u001b[0m\u001b[0;34m=\u001b[0m\u001b[0;34m(\u001b[0m\u001b[0;36m10\u001b[0m\u001b[0;34m,\u001b[0m \u001b[0;36m6\u001b[0m\u001b[0;34m)\u001b[0m\u001b[0;34m)\u001b[0m\u001b[0;34m\u001b[0m\u001b[0;34m\u001b[0m\u001b[0m\n",
            "\u001b[0;31mNameError\u001b[0m: name 'np' is not defined"
          ]
        }
      ]
    },
    {
      "cell_type": "code",
      "source": [
        "\n",
        "# 학습 완료 후 정확도 plot\n",
        "plot_acc(train_accs, test_accs)\n",
        "\n",
        "# 최종 예측 확인\n",
        "idx = 0\n",
        "x = trainset[idx][0][None].to('cuda')\n",
        "output = model(x)\n",
        "predicted_class = torch.argmax(output, dim=1).item()\n",
        "actual_class = trainset[idx][1]\n",
        "\n",
        "print(f\"Predicted class: {predicted_class}\")\n",
        "print(f\"Actual class: {actual_class}\")\n"
      ],
      "metadata": {
        "colab": {
          "base_uri": "https://localhost:8080/",
          "height": 466
        },
        "id": "j31qzQwHMd7h",
        "outputId": "f185eece-a9b7-4fc3-eaba-e5d8f9b9aa1e"
      },
      "execution_count": 64,
      "outputs": [
        {
          "output_type": "display_data",
          "data": {
            "text/plain": [
              "<Figure size 1000x600 with 1 Axes>"
            ],
            "image/png": "[encoded data removed]"
          },
          "metadata": {}
        },
        {
          "output_type": "stream",
          "name": "stdout",
          "text": [
            "Predicted class: 3\n",
            "Actual class: 5\n"
          ]
        }
      ]
    },
    {
      "cell_type": "markdown",
      "source": [
        "출력 결과를 보면 잘 수렴하는 것을 볼 수 있습니다.\n",
        "이전 구현과 다른 점은 다음 두 가지입니다.\n",
        "- `for data in trainloader`를 통해 batch들을 iterate하면서 model을 학습합니다.\n",
        "- `inputs, labels = inputs.to('cuda'), labels.to('cuda')`를 통해 model의 입력으로 들어가는 tensor들을 GPU로 보냅니다.\n",
        "\n",
        "마지막으로 첫 번째 data에 대한 예측 결과를 살펴봅시다."
      ],
      "metadata": {
        "id": "YRDcptrqniX7"
      }
    },
    {
      "cell_type": "code",
      "source": [
        "idx = 0\n",
        "\n",
        "x = trainset[idx][0][None]  # (1, 1, 28, 28)\n",
        "x = x.to('cuda')\n",
        "\n",
        "plt.imshow(trainset[0][0][0], cmap='gray')\n",
        "print(model(x))\n",
        "print(\"정답은\", trainset[idx][1])"
      ],
      "metadata": {
        "id": "Zct0ssSKwjt1",
        "colab": {
          "base_uri": "https://localhost:8080/",
          "height": 484
        },
        "outputId": "7d0931f1-0c21-4e2e-c98f-e8d84c1172bd"
      },
      "execution_count": 65,
      "outputs": [
        {
          "output_type": "stream",
          "name": "stdout",
          "text": [
            "tensor([[15.6028, 10.7503, 14.8017,  ...,  0.0000,  0.0000,  0.1070]],\n",
            "       device='cuda:0', grad_fn=<ReluBackward0>)\n",
            "정답은 5\n"
          ]
        },
        {
          "output_type": "display_data",
          "data": {
            "text/plain": [
              "<Figure size 640x480 with 1 Axes>"
            ],
            "image/png": "[encoded data removed]"
          },
          "metadata": {}
        }
      ]
    },
    {
      "cell_type": "markdown",
      "source": [
        "여기서 idx를 조정하여 다른 data에 대한 출력 결과도 볼 수 있습니다.\n",
        "예측 결과를 보시면 아직 성능이 그렇게 좋지 않은 것을 알 수 있습니다."
      ],
      "metadata": {
        "id": "qzgSOrMsoZ2z"
      }
    },
    {
      "cell_type": "code",
      "source": [],
      "metadata": {
        "id": "_GFA6howyHUe"
      },
      "execution_count": 21,
      "outputs": []
    },
    {
      "cell_type": "code",
      "source": [],
      "metadata": {
        "id": "rDqBH0yFyHQ8"
      },
      "execution_count": null,
      "outputs": []
    }
  ]
}